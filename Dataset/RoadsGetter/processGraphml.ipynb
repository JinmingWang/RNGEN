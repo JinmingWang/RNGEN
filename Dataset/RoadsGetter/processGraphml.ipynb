{
 "cells": [
  {
   "cell_type": "code",
   "execution_count": 1,
   "id": "initial_id",
   "metadata": {
    "ExecuteTime": {
     "end_time": "2024-11-17T06:25:10.345451643Z",
     "start_time": "2024-11-17T06:25:09.767321549Z"
    }
   },
   "outputs": [],
   "source": [
    "import osmnx as ox\n",
    "import networkx as nx\n",
    "from tqdm import tqdm\n",
    "import matplotlib.pyplot as plt\n",
    "import math\n",
    "from shapely import LineString, Polygon, intersection, Point, MultiLineString, GeometryCollection\n",
    "import numpy as np\n",
    "import random"
   ]
  },
  {
   "cell_type": "markdown",
   "id": "7c2e2feffe3362ba",
   "metadata": {
    "collapsed": false
   },
   "source": [
    "# Load and Clean the Data"
   ]
  },
  {
   "cell_type": "code",
   "execution_count": 2,
   "id": "b7d30509",
   "metadata": {
    "ExecuteTime": {
     "end_time": "2024-11-17T06:25:24.040548723Z",
     "start_time": "2024-11-17T06:25:11.195564561Z"
    }
   },
   "outputs": [],
   "source": [
    "G_original = ox.load_graphml('Tokyo_street_network.graphml')"
   ]
  },
  {
   "cell_type": "code",
   "execution_count": 3,
   "id": "24f39f19",
   "metadata": {
    "ExecuteTime": {
     "end_time": "2024-11-17T06:25:24.044599809Z",
     "start_time": "2024-11-17T06:25:24.041277136Z"
    }
   },
   "outputs": [],
   "source": [
    "debug = False\n",
    "\n",
    "# For Tokyo, debug\n",
    "min_lat, max_lat = 35.683743, 35.700187\n",
    "min_lon, max_lon = 139.755065, 139.777357\n",
    "\n",
    "# For No boundaries\n",
    "# min_lat, max_lat = 0.0, 360.0\n",
    "# min_lon, max_lon = 0.0, 360.0"
   ]
  },
  {
   "cell_type": "code",
   "execution_count": 4,
   "id": "896aae8326359643",
   "metadata": {
    "collapsed": false,
    "ExecuteTime": {
     "end_time": "2024-11-17T06:25:24.090603466Z",
     "start_time": "2024-11-17T06:25:24.043796431Z"
    }
   },
   "outputs": [
    {
     "name": "stderr",
     "output_type": "stream",
     "text": [
      "Data Cleaning: 100%|██████████| 279734/279734 [00:00<00:00, 8959006.70it/s]\n"
     ]
    }
   ],
   "source": [
    "nodes_of_interest = {}\n",
    "for node, data in tqdm(G_original.nodes(data=True), desc=\"Data Cleaning\"):\n",
    "    if min_lat <= data['y'] <= max_lat and min_lon <= data['x'] <= max_lon:\n",
    "        degree = G_original.degree[node]\n",
    "        if degree != 2:\n",
    "            # only keep x and y attributes for each node\n",
    "            data = {\"x\": data['x'], \"y\": data['y'], \"degree\": degree}\n",
    "            nodes_of_interest[node] = data\n",
    "\n",
    "G = G_original.subgraph(nodes_of_interest).copy()\n",
    "del G_original"
   ]
  },
  {
   "cell_type": "code",
   "execution_count": 5,
   "id": "bcd02ae3",
   "metadata": {
    "ExecuteTime": {
     "end_time": "2024-11-17T06:25:24.092433290Z",
     "start_time": "2024-11-17T06:25:24.090252375Z"
    }
   },
   "outputs": [],
   "source": [
    "if debug:\n",
    "    fig, ax = ox.plot_graph(G, node_size=3, edge_linewidth=1, figsize=(9, 9), node_color=\"red\")"
   ]
  },
  {
   "cell_type": "markdown",
   "id": "18b66d0e",
   "metadata": {},
   "source": [
    "# Detecting Degree-2 Keynodes "
   ]
  },
  {
   "cell_type": "code",
   "execution_count": 6,
   "id": "2d21c375",
   "metadata": {
    "ExecuteTime": {
     "end_time": "2024-11-17T06:25:29.979981916Z",
     "start_time": "2024-11-17T06:25:29.975375360Z"
    }
   },
   "outputs": [],
   "source": [
    "def calculate_angle(p1, p2, p3):\n",
    "    \"\"\"Calculate the angle (in degrees) between points n1, n2, and n3.\"\"\"\n",
    "    x1, y1 = p1\n",
    "    x2, y2 = p2\n",
    "    x3, y3 = p3\n",
    "    \n",
    "    # Vector from n2 to n1\n",
    "    v1 = (x1 - x2, y1 - y2)\n",
    "    # Vector from n2 to n3\n",
    "    v2 = (x3 - x2, y3 - y2)\n",
    "    \n",
    "    # Calculate the angle using the dot product formula\n",
    "    dot_product = v1[0] * v2[0] + v1[1] * v2[1]\n",
    "    mag_v1 = math.sqrt(v1[0]**2 + v1[1]**2)\n",
    "    mag_v2 = math.sqrt(v2[0]**2 + v2[1]**2)\n",
    "    cos_theta = max(-1, min(1, dot_product / (mag_v1 * mag_v2)))\n",
    "    angle_rad = math.acos(cos_theta)\n",
    "    \n",
    "    # Convert radians to degrees\n",
    "    return math.degrees(angle_rad)"
   ]
  },
  {
   "cell_type": "code",
   "execution_count": 7,
   "id": "b2ae279ae2a0d770",
   "metadata": {
    "collapsed": false,
    "ExecuteTime": {
     "end_time": "2024-11-17T06:25:31.984197047Z",
     "start_time": "2024-11-17T06:25:31.948657861Z"
    }
   },
   "outputs": [
    {
     "name": "stderr",
     "output_type": "stream",
     "text": [
      "Filtering edges within bounding box: 100%|██████████| 2512/2512 [00:00<00:00, 224693.26it/s]\n"
     ]
    }
   ],
   "source": [
    "uid = 0\n",
    "G_new = G.copy()\n",
    "for u, v, data in tqdm(G.edges(data=True), desc=\"Filtering edges within bounding box\"):\n",
    "    if \"geometry\" in data:\n",
    "        points = list(data[\"geometry\"].coords)\n",
    "        last_node = u\n",
    "        next_node = v\n",
    "        for i in range(1, len(points) - 1):\n",
    "            angle = calculate_angle(points[i - 1], points[i], points[i + 1])\n",
    "            if angle < 90:\n",
    "                new_node = f\"i{uid}\"\n",
    "                uid += 1\n",
    "                G_new.add_node(new_node, x=points[i][0], y=points[i][1], degree=2)\n",
    "\n",
    "                # Add (last_node, new_node) and (new_node, next_node) edges\n",
    "                geom_u_i =  LineString(data[\"geometry\"].coords[:i+1])\n",
    "                geom_i_v = LineString(data[\"geometry\"].coords[i:])\n",
    "                G_new.add_edge(last_node, new_node, geometry=geom_u_i)\n",
    "                G_new.add_edge(new_node, next_node, geometry=geom_i_v)\n",
    "                # Remove the original edge\n",
    "                G_new.remove_edge(last_node, next_node)\n",
    "                \n",
    "                last_node = new_node\n",
    "\n",
    "G = G_new.copy()\n",
    "del G_new"
   ]
  },
  {
   "cell_type": "code",
   "execution_count": 8,
   "id": "65f47174",
   "metadata": {
    "ExecuteTime": {
     "end_time": "2024-11-17T06:25:37.696722487Z",
     "start_time": "2024-11-17T06:25:37.667659712Z"
    }
   },
   "outputs": [],
   "source": [
    "if debug:\n",
    "    fig, ax = ox.plot_graph(G, node_size=3, edge_linewidth=1, figsize=(9, 9), node_color=\"red\")"
   ]
  },
  {
   "cell_type": "markdown",
   "id": "52a2b79b",
   "metadata": {},
   "source": [
    "# Subgraph and Map Extraction"
   ]
  },
  {
   "cell_type": "code",
   "execution_count": 10,
   "id": "ce680aac",
   "metadata": {
    "ExecuteTime": {
     "end_time": "2024-11-17T06:25:49.632819927Z",
     "start_time": "2024-11-17T06:25:49.438821589Z"
    }
   },
   "outputs": [],
   "source": [
    "interp_n = 8\n",
    "base_interp_dists = np.linspace(0, 1, interp_n)\n",
    "interp_func = lambda line_string : LineString([line_string.interpolate(d) for d in base_interp_dists * line_string.length])\n",
    "\n",
    "lat_range = 0.0008\n",
    "lon_range = 0.0008\n",
    "data_count = 10000"
   ]
  },
  {
   "cell_type": "code",
   "execution_count": 11,
   "id": "fc54a4aa",
   "metadata": {
    "ExecuteTime": {
     "end_time": "2024-11-17T06:26:37.960695961Z",
     "start_time": "2024-11-17T06:25:50.111671640Z"
    }
   },
   "outputs": [
    {
     "name": "stderr",
     "output_type": "stream",
     "text": [
      "Creating subgraphs: 100%|██████████| 10000/10000 [00:44<00:00, 222.38it/s]\n"
     ]
    }
   ],
   "source": [
    "# randomly select data_count nodes from the graph\n",
    "src_nodes = np.random.choice(list(G.nodes()), data_count)\n",
    "\n",
    "# Get a subgraph containing all nodes within the bounding box\n",
    "sub_graphs = []\n",
    "graph_bboxes = []\n",
    "max_n_edges = 0\n",
    "for src_node in tqdm(src_nodes, desc=\"Creating subgraphs\"):\n",
    "    if src_node[0] != 'i':\n",
    "        src_node = int(src_node)\n",
    "    # Compute the bounding box for this subgraph\n",
    "    node_lat, node_lon = G.nodes[src_node][\"y\"], G.nodes[src_node][\"x\"]\n",
    "\n",
    "    lat_bot, lat_top = node_lat - lat_range, node_lat + lat_range\n",
    "    lon_left, lon_right = node_lon - lon_range, node_lon + lon_range\n",
    "    bbox = Polygon([(lon_left, lat_top), (lon_right, lat_top), (lon_right, lat_bot), (lon_left, lat_bot)])\n",
    "\n",
    "    graph_bboxes.append((lat_bot, lat_top, lon_left, lon_right))\n",
    "\n",
    "    sub_graph = nx.MultiGraph()\n",
    "    cut_uid = 0\n",
    "    for u in G.nodes():\n",
    "\n",
    "        ux, uy = G.nodes[u][\"x\"], G.nodes[u][\"y\"]\n",
    "\n",
    "        # If the distance between u and src_node is greater than 4 * lat_range, skip\n",
    "        if (ux - node_lon)**2 + (uy - node_lat)**2 > 4 * lat_range**2:\n",
    "            continue\n",
    "\n",
    "        for v in G.neighbors(u):\n",
    "            vx, vy = G.nodes[v][\"x\"], G.nodes[v][\"y\"]\n",
    "            for data in G.get_edge_data(u, v).values():\n",
    "                \n",
    "                # intersection will return a LineString containing the segment inside the bbox\n",
    "                if \"geometry\" in data:\n",
    "                    geometry = data[\"geometry\"]\n",
    "                else:\n",
    "                    geometry = LineString([(ux, uy), (vx, vy)])\n",
    "\n",
    "                inter_segments = intersection(bbox, geometry)\n",
    "\n",
    "                if inter_segments.is_empty:\n",
    "                    inter_segments = []\n",
    "                elif isinstance(inter_segments, LineString) or isinstance(inter_segments, GeometryCollection):\n",
    "                    inter_segments = [inter_segments]\n",
    "                elif isinstance(inter_segments, MultiLineString):\n",
    "                    inter_segments = list(inter_segments.geoms)\n",
    "                elif isinstance(inter_segments, Point):\n",
    "                    inter_segments = []\n",
    "                else:\n",
    "                    raise ValueError(f\"Unexpected type {type(inter_segments)}\")\n",
    "\n",
    "                try:\n",
    "                    for intersect_segment in inter_segments:\n",
    "                        if intersect_segment.coords[0] != geometry.coords[0]:\n",
    "                            u_new = f\"cut{cut_uid}\"\n",
    "                            cut_uid += 1\n",
    "                        else:\n",
    "                            u_new = u\n",
    "    \n",
    "                        if intersect_segment.coords[-1] != geometry.coords[-1]:\n",
    "                            v_new = f\"cut{cut_uid}\"\n",
    "                            cut_uid += 1\n",
    "                        else:\n",
    "                            v_new = v\n",
    "    \n",
    "                        sub_graph.add_node(u_new, x=intersect_segment.coords[0][0], y=intersect_segment.coords[0][1])\n",
    "                        sub_graph.add_node(v_new, x=intersect_segment.coords[-1][0], y=intersect_segment.coords[-1][1])\n",
    "                        sub_graph.add_edge(u_new, v_new, geometry=interp_func(intersect_segment))\n",
    "                except:\n",
    "                    print(\"Error occured, skip node\")\n",
    "\n",
    "    sub_graph.graph[\"crs\"] = G.graph[\"crs\"]\n",
    "    sub_graphs.append(sub_graph)\n",
    "\n",
    "    max_n_edges = max(max_n_edges, sub_graph.number_of_edges())\n",
    "\n",
    "all_segs = np.zeros((data_count, max_n_edges, interp_n, 2))\n",
    "for b, graph in enumerate(sub_graphs):\n",
    "    for i, (u, v, data) in enumerate(graph.edges(data=True)):\n",
    "        all_segs[b, i] = np.array(data[\"geometry\"].coords)\n",
    "\n",
    "np.save(\"all_segs.npy\", all_segs)\n",
    "np.save(\"graph_bboxes.npy\", graph_bboxes)"
   ]
  },
  {
   "cell_type": "code",
   "execution_count": 12,
   "id": "d3208990",
   "metadata": {
    "ExecuteTime": {
     "end_time": "2024-11-17T06:26:38.593985952Z",
     "start_time": "2024-11-17T06:26:37.961604411Z"
    }
   },
   "outputs": [
    {
     "data": {
      "text/plain": "<Figure size 900x900 with 9 Axes>",
      "image/png": "[encoded data removed]"
     },
     "metadata": {},
     "output_type": "display_data"
    }
   ],
   "source": [
    "# Draw 9 subgraphs\n",
    "fig, axs = plt.subplots(3, 3, figsize=(9, 9))\n",
    "for i in range(3):\n",
    "    for j in range(3):\n",
    "        idx = i * 3 + j\n",
    "        ax = axs[i, j]\n",
    "        ax.set_title(f\"Subgraph {idx}\")\n",
    "        ox.plot_graph(sub_graphs[idx], node_size=2, edge_linewidth=1, ax=ax, show=False, node_color=\"red\")\n",
    "        ax.set_xlim((graph_bboxes[idx][2], graph_bboxes[idx][3]))\n",
    "        ax.set_ylim((graph_bboxes[idx][0], graph_bboxes[idx][1]))\n",
    "\n",
    "plt.show()"
   ]
  },
  {
   "cell_type": "markdown",
   "id": "f77ecb8a",
   "metadata": {},
   "source": [
    "# Generate Routes and Trajectories"
   ]
  },
  {
   "cell_type": "code",
   "execution_count": 13,
   "id": "38abc734",
   "metadata": {
    "ExecuteTime": {
     "end_time": "2024-11-17T06:26:38.598403370Z",
     "start_time": "2024-11-17T06:26:38.593762366Z"
    }
   },
   "outputs": [],
   "source": [
    "N_trajs = 48\n",
    "max_visited_num = 8\n",
    "max_route_len = max_visited_num * interp_n\n",
    "min_traj_len = 16\n",
    "max_traj_len = 64\n",
    "# noise_std = 0.000025   # hard\n",
    "# noise_std = 0.00002   # medium\n",
    "noise_std = 0.000015   # easy"
   ]
  },
  {
   "cell_type": "code",
   "execution_count": 14,
   "id": "11283645",
   "metadata": {
    "ExecuteTime": {
     "end_time": "2024-11-17T06:26:38.600401210Z",
     "start_time": "2024-11-17T06:26:38.595715872Z"
    }
   },
   "outputs": [],
   "source": [
    "def myLineMerge(geom_list):\n",
    "    # Used for concatenating multiple LineString (head-tail, head-head, tail-tail or tail-head)\n",
    "    result = list(geom_list[0].coords)\n",
    "    for geom in geom_list[1:]:\n",
    "        if result[-1] == geom.coords[0]:\n",
    "            result += list(geom.coords[1:])\n",
    "        elif result[-1] == geom.coords[-1]:\n",
    "            result += list(geom.coords[::-1][1:])\n",
    "        elif result[0] == geom.coords[0]:\n",
    "            result = list(geom.coords[::-1]) + result[1:]\n",
    "        elif result[0] == geom.coords[-1]:\n",
    "            result = list(geom.coords) + result[1:]\n",
    "    return LineString(result)"
   ]
  },
  {
   "cell_type": "code",
   "execution_count": 15,
   "id": "9c41a2c0",
   "metadata": {
    "ExecuteTime": {
     "end_time": "2024-11-17T06:30:20.766696658Z",
     "start_time": "2024-11-17T06:26:38.597352633Z"
    }
   },
   "outputs": [
    {
     "name": "stderr",
     "output_type": "stream",
     "text": [
      "100%|██████████| 10000/10000 [03:42<00:00, 45.04it/s]\n"
     ]
    }
   ],
   "source": [
    "all_routes = np.zeros((data_count, N_trajs, max_visited_num, interp_n, 2), np.float32)\n",
    "all_trajs = np.zeros((data_count, N_trajs, max_traj_len, 2), np.float32)\n",
    "\n",
    "all_traj_lens = np.random.randint(min_traj_len, max_traj_len, (data_count, N_trajs))\n",
    "\n",
    "if debug:\n",
    "    fig, axes = plt.subplots(3, 3, figsize=(12, 12))\n",
    "\n",
    "    for i in range(3):\n",
    "        for j in range(3):\n",
    "            idx = i * 3 + j\n",
    "            axes[i, j].set_title(f\"Subgraph {idx}\")\n",
    "            axes[i, j].set_xlim((graph_bboxes[idx][2], graph_bboxes[idx][3]))\n",
    "            axes[i, j].set_ylim((graph_bboxes[idx][0], graph_bboxes[idx][1]))\n",
    "            for seg in all_segs[idx]:\n",
    "                axes[i, j].plot(seg[:, 0], seg[:, 1], color=\"black\", linewidth=6)\n",
    "\n",
    "pbar = tqdm(sub_graphs)\n",
    "for b, graph in enumerate(pbar):\n",
    "    edges = [(u, v, data) for u, v, data in graph.edges(data=True)]\n",
    "    edges_weight = np.array([data[\"geometry\"].length for u, v, data in edges])\n",
    "    edges_weight /= edges_weight.sum()\n",
    "    unvisited_edges = [(u, v) for u, v in graph.edges()]\n",
    "    for i in range(N_trajs):\n",
    "        # first, make sure each node is chosen at least once\n",
    "        if len(unvisited_edges) != 0:\n",
    "            start_edge = unvisited_edges.pop()\n",
    "        else:\n",
    "            edge_id = int(np.random.choice(range(len(edges)), p=edges_weight))\n",
    "            start_edge = edges[edge_id]\n",
    "        \n",
    "        visit_nodes = [start_edge[0], start_edge[1]]\n",
    "\n",
    "        # random walk\n",
    "        visit_geoms = [graph.get_edge_data(visit_nodes[0], visit_nodes[1])[0][\"geometry\"]]\n",
    "        for j in range(1, max_visited_num):\n",
    "            neighbors = list(graph.neighbors(visit_nodes[-1]))\n",
    "            if len(neighbors) <= 1:\n",
    "                visit_nodes = visit_nodes[::-1]     # flip\n",
    "                visit_geoms = visit_geoms[::-1]     # flip\n",
    "                # Lets's try to explore the other direction\n",
    "                neighbors = list(graph.neighbors(visit_nodes[-1]))\n",
    "                if len(neighbors) <= 1:\n",
    "                    break\n",
    "\n",
    "            prev_node = visit_nodes[-2]\n",
    "            go_back_id = neighbors.index(prev_node)\n",
    "            # longer distance, larger weight\n",
    "            weight = np.array([graph.get_edge_data(visit_nodes[-1], v)[0][\"geometry\"].length for v in neighbors])\n",
    "            weight[go_back_id] *= 0.1\n",
    "            next_node_id = int(np.random.choice(range(len(neighbors)), p=weight / weight.sum()))\n",
    "            next_node = neighbors[next_node_id]\n",
    "\n",
    "            visit_nodes.append(next_node)\n",
    "            edge_data = list(graph.get_edge_data(visit_nodes[-2], visit_nodes[-1]).values())\n",
    "            visit_geoms.append(random.choice(edge_data)[\"geometry\"])\n",
    "\n",
    "            if len(unvisited_edges) != 0:\n",
    "                if (visit_nodes[-2], visit_nodes[-1]) in unvisited_edges:\n",
    "                    unvisited_edges.remove((visit_nodes[-2], visit_nodes[-1]))\n",
    "                elif (visit_nodes[-1], visit_nodes[-2]) in unvisited_edges:\n",
    "                    unvisited_edges.remove((visit_nodes[-1], visit_nodes[-2]))\n",
    "\n",
    "        # Merge geometries\n",
    "        # route = ops.linemerge(visit_geoms)\n",
    "        visit_points = myLineMerge(visit_geoms)\n",
    "\n",
    "        # pbar.set_postfix_str(f\"RouteLen={len(route.coords)}, VisitNum={len(visit_geoms)}\")\n",
    "\n",
    "        interp_distances = np.linspace(0, visit_points.length, all_traj_lens[b, i])\n",
    "        interp_points = [visit_points.interpolate(d) for d in interp_distances]\n",
    "\n",
    "        traj = np.array([p.coords[0] for p in interp_points])\n",
    "        traj += np.random.normal(0, noise_std, traj.shape)\n",
    "\n",
    "        all_routes[b, i, :len(visit_geoms), :] = np.stack([np.array(geom.coords) for geom in visit_geoms], axis=0)\n",
    "        all_trajs[b, i, :all_traj_lens[b, i], :] = traj\n",
    "\n",
    "        # plot route\n",
    "        if debug:\n",
    "            row = b // 3\n",
    "            col = b % 3\n",
    "            axes[row, col].plot(*visit_points.xy, color=\"cyan\", linewidth=2, alpha=0.5)\n",
    "            # plot trajectory\n",
    "            axes[row, col].plot(all_trajs[b, i, :all_traj_lens[b, i], 0], all_trajs[b, i, :all_traj_lens[b, i], 1], \n",
    "                                color=\"red\", linewidth=1, alpha=0.5)\n",
    "\n",
    "    if len(unvisited_edges) != 0:\n",
    "        print(\"Warning: unvisited edges are not empty\")\n",
    "\n",
    "np.save(\"all_routes.npy\", all_routes)\n",
    "np.save(\"all_trajs.npy\", all_trajs)\n",
    "\n",
    "if debug:\n",
    "    plt.show()"
   ]
  },
  {
   "cell_type": "markdown",
   "id": "ffc10064",
   "metadata": {},
   "source": [
    "# Switch to Another Kernel (Needed: cv2, torch)"
   ]
  },
  {
   "cell_type": "code",
   "execution_count": 3,
   "id": "d3c63429",
   "metadata": {
    "ExecuteTime": {
     "end_time": "2024-11-17T06:31:25.136935156Z",
     "start_time": "2024-11-17T06:31:25.034298759Z"
    }
   },
   "outputs": [],
   "source": [
    "import numpy as np\n",
    "import torch\n",
    "import requests\n",
    "import cv2\n",
    "import threading\n",
    "import os\n",
    "import json\n",
    "from tqdm import tqdm\n",
    "from torch.nn.functional import pad, interpolate\n",
    "import matplotlib.pyplot as plt\n",
    "\n",
    "debug = False"
   ]
  },
  {
   "cell_type": "markdown",
   "id": "4ec114b6",
   "metadata": {},
   "source": [
    "# Load and Reformat Data"
   ]
  },
  {
   "cell_type": "code",
   "execution_count": 4,
   "id": "4f1910af",
   "metadata": {
    "ExecuteTime": {
     "end_time": "2024-11-17T06:31:58.910019683Z",
     "start_time": "2024-11-17T06:31:26.124935536Z"
    }
   },
   "outputs": [
    {
     "name": "stdout",
     "output_type": "stream",
     "text": [
      "data_count=10000\n",
      "N_trajs=48\n",
      "max_route_len=8\n",
      "max_traj_len=64\n",
      "torch.Size([10000, 48])\n",
      "torch.Size([10000, 48])\n",
      "torch.Size([10000])\n"
     ]
    },
    {
     "name": "stderr",
     "output_type": "stream",
     "text": [
      "100%|██████████| 10000/10000 [00:32<00:00, 306.83it/s]\n"
     ]
    }
   ],
   "source": [
    "all_segs = torch.tensor(np.load(\"all_segs.npy\"))    # (B, N_segs, N_interp, 2)\n",
    "all_routes = torch.tensor(np.load(\"all_routes.npy\"))    # (B, N_trajs, L_route, N_interp, 2)\n",
    "all_trajs = torch.tensor(np.load(\"all_trajs.npy\"))  \n",
    "graph_bboxes = np.load(\"graph_bboxes.npy\")\n",
    "\n",
    "data_count = all_segs.shape[0]\n",
    "N_trajs = all_routes.shape[1]\n",
    "N_segs = all_segs.shape[1]\n",
    "max_route_len = all_routes.shape[2]\n",
    "max_traj_len = all_trajs.shape[2]\n",
    "\n",
    "print(f\"{data_count=}\\n{N_trajs=}\\n{max_route_len=}\\n{max_traj_len=}\")\n",
    "\n",
    "traj_lens = torch.sum(torch.all(all_trajs != 0, dim=-1), dim=-1)\n",
    "route_lens = torch.sum(torch.all(all_routes.flatten(-2, -1) != 0, dim=-1), dim=-1)\n",
    "seg_nums = torch.sum(torch.all(all_segs.flatten(-2, -1) != 0, dim=-1), dim=-1)  # (B,)\n",
    "\n",
    "print(traj_lens.shape)\n",
    "print(route_lens.shape)\n",
    "print(seg_nums.shape)\n",
    "\n",
    "if not debug:\n",
    "    all_mean = torch.zeros(data_count, 1, 1, 2, dtype=torch.float32)\n",
    "    all_std = torch.zeros(data_count, 1, 1, 2, dtype=torch.float32)\n",
    "\n",
    "    for b in tqdm(range(data_count)):\n",
    "        # (N_points, 2)\n",
    "        traj_points = torch.cat([all_trajs[b, i, :traj_lens[b, i]] for i in range(N_trajs)], dim=0)\n",
    "        mean_point = traj_points.mean(dim=0).view(1, 1, 2)\n",
    "        std_point = traj_points.std(dim=0).view(1, 1, 2)\n",
    "        all_mean[b] = mean_point\n",
    "        all_std[b] = std_point\n",
    "        for traj_i in range(N_trajs):\n",
    "            valid_len = traj_lens[b, traj_i]\n",
    "            all_trajs[b, traj_i, :valid_len] = (all_trajs[b, traj_i, :valid_len] - mean_point) / std_point\n",
    "            \n",
    "            valid_len = route_lens[b, traj_i]\n",
    "            all_routes[b, traj_i, :valid_len] = (all_routes[b, traj_i, :valid_len] - mean_point.unsqueeze(0)) / std_point.unsqueeze(0)\n",
    "            for seg_i in range(valid_len):\n",
    "                # Ensure the unique direction of segments\n",
    "                if all_routes[b, traj_i, seg_i, 0, 0] > all_routes[b, traj_i, seg_i, -1, 0]:\n",
    "                    all_routes[b, traj_i, seg_i] = all_routes[b, traj_i, seg_i].flip(0)\n",
    "\n",
    "        valid_len = seg_nums[b]\n",
    "        all_segs[b, :valid_len] = (all_segs[b, :valid_len] - mean_point) / std_point\n",
    "        for seg_i in range(valid_len):\n",
    "            if all_segs[b, seg_i, 0, 0] > all_segs[b, seg_i, -1, 0]:\n",
    "                all_segs[b, seg_i] = all_segs[b, seg_i].flip(0)"
   ]
  },
  {
   "cell_type": "markdown",
   "id": "a7571b72",
   "metadata": {},
   "source": [
    "# Prepare Image download"
   ]
  },
  {
   "cell_type": "code",
   "execution_count": 6,
   "id": "fb48ddaa",
   "metadata": {
    "ExecuteTime": {
     "end_time": "2024-11-17T06:32:11.644006940Z",
     "start_time": "2024-11-17T06:32:11.545023605Z"
    }
   },
   "outputs": [],
   "source": [
    "# This code block is from https://github.com/andolg/satellite-imagery-downloader\n",
    "\n",
    "def download_tile(url, headers, channels):\n",
    "    response = requests.get(url, headers=headers)\n",
    "    arr = np.asarray(bytearray(response.content), dtype=np.uint8)\n",
    "\n",
    "    if channels == 3:\n",
    "        return cv2.imdecode(arr, 1)\n",
    "    return cv2.imdecode(arr, -1)\n",
    "\n",
    "# Mercator projection\n",
    "# https://developers.google.com/maps/documentation/javascript/examples/map-coordinates\n",
    "def project_with_scale(lat, lon, scale):\n",
    "    siny = np.sin(lat * np.pi / 180)\n",
    "    siny = min(max(siny, -0.9999), 0.9999)\n",
    "    x = scale * (0.5 + lon / 360)\n",
    "    y = scale * (0.5 - np.log((1 + siny) / (1 - siny)) / (4 * np.pi))\n",
    "    return x, y\n",
    "\n",
    "def download_image(lat1: float, lon1: float, lat2: float, lon2: float,\n",
    "                   zoom: int, url: str, headers: dict, tile_size: int = 256, channels: int = 3) -> np.ndarray:\n",
    "    \"\"\"\n",
    "    Downloads a map region. Returns an image stored as a `numpy.ndarray` in BGR or BGRA, depending on the number\n",
    "    of `channels`.\n",
    "\n",
    "    Parameters\n",
    "    ----------\n",
    "    `(lat1, lon1)` - Coordinates (decimal degrees) of the top-left corner of a rectangular area\n",
    "\n",
    "    `(lat2, lon2)` - Coordinates (decimal degrees) of the bottom-right corner of a rectangular area\n",
    "\n",
    "    `zoom` - Zoom level\n",
    "\n",
    "    `url` - Tile URL with {x}, {y} and {z} in place of its coordinate and zoom values\n",
    "\n",
    "    `headers` - Dictionary of HTTP headers\n",
    "\n",
    "    `tile_size` - Tile size in pixels\n",
    "\n",
    "    `channels` - Number of channels in the output image. Also affects how the tiles are converted into numpy arrays.\n",
    "    \"\"\"\n",
    "\n",
    "    scale = 1 << zoom\n",
    "\n",
    "    # Find the pixel coordinates and tile coordinates of the corners\n",
    "    tl_proj_x, tl_proj_y = project_with_scale(lat1, lon1, scale)\n",
    "    br_proj_x, br_proj_y = project_with_scale(lat2, lon2, scale)\n",
    "\n",
    "    tl_pixel_x = int(tl_proj_x * tile_size)\n",
    "    tl_pixel_y = int(tl_proj_y * tile_size)\n",
    "    br_pixel_x = int(br_proj_x * tile_size)\n",
    "    br_pixel_y = int(br_proj_y * tile_size)\n",
    "\n",
    "    tl_tile_x = int(tl_proj_x)\n",
    "    tl_tile_y = int(tl_proj_y)\n",
    "    br_tile_x = int(br_proj_x)\n",
    "    br_tile_y = int(br_proj_y)\n",
    "\n",
    "    img_w = abs(tl_pixel_x - br_pixel_x)\n",
    "    img_h = br_pixel_y - tl_pixel_y\n",
    "    img = np.zeros((img_h, img_w, channels), np.uint8)\n",
    "\n",
    "    def build_row(tile_y):\n",
    "        for tile_x in range(tl_tile_x, br_tile_x + 1):\n",
    "            tile = download_tile(url.format(x=tile_x, y=tile_y, z=zoom), headers, channels)\n",
    "\n",
    "            if tile is not None:\n",
    "                # Find the pixel coordinates of the new tile relative to the image\n",
    "\n",
    "                tl_rel_x = tile_x * tile_size - tl_pixel_x\n",
    "                tl_rel_y = tile_y * tile_size - tl_pixel_y\n",
    "                br_rel_x = tl_rel_x + tile_size\n",
    "                br_rel_y = tl_rel_y + tile_size\n",
    "\n",
    "                # Define where the tile will be placed on the image\n",
    "                img_x_l = max(0, tl_rel_x)\n",
    "                img_x_r = min(img_w + 1, br_rel_x)\n",
    "                img_y_l = max(0, tl_rel_y)\n",
    "                img_y_r = min(img_h + 1, br_rel_y)\n",
    "\n",
    "                # Define how border tiles will be cropped\n",
    "                cr_x_l = max(0, -tl_rel_x)\n",
    "                cr_x_r = tile_size + min(0, img_w - br_rel_x)\n",
    "                cr_y_l = max(0, -tl_rel_y)\n",
    "                cr_y_r = tile_size + min(0, img_h - br_rel_y)\n",
    "\n",
    "                img[img_y_l:img_y_r, img_x_l:img_x_r] = tile[cr_y_l:cr_y_r, cr_x_l:cr_x_r]\n",
    "\n",
    "    threads = []\n",
    "    for tile_y in range(tl_tile_y, br_tile_y + 1):\n",
    "        thread = threading.Thread(target=build_row, args=[tile_y])\n",
    "        thread.start()\n",
    "        threads.append(thread)\n",
    "\n",
    "    for thread in threads:\n",
    "        thread.join()\n",
    "\n",
    "    return img\n",
    "\n",
    "def image_size(lat1: float, lon1: float, lat2: float,\n",
    "               lon2: float, zoom: int, tile_size: int = 256):\n",
    "    \"\"\" Calculates the size of an image without downloading it. Returns the width and height in pixels as a tuple. \"\"\"\n",
    "\n",
    "    scale = 1 << zoom\n",
    "    tl_proj_x, tl_proj_y = project_with_scale(lat1, lon1, scale)\n",
    "    br_proj_x, br_proj_y = project_with_scale(lat2, lon2, scale)\n",
    "\n",
    "    tl_pixel_x = int(tl_proj_x * tile_size)\n",
    "    tl_pixel_y = int(tl_proj_y * tile_size)\n",
    "    br_pixel_x = int(br_proj_x * tile_size)\n",
    "    br_pixel_y = int(br_proj_y * tile_size)\n",
    "\n",
    "    return abs(tl_pixel_x - br_pixel_x), br_pixel_y - tl_pixel_y\n",
    "\n",
    "\n",
    "prefs_path = 'preferences.json'\n",
    "default_prefs = {\n",
    "        'url': 'https://mt.google.com/vt/lyrs=s&x={x}&y={y}&z={z}',\n",
    "        'tile_size': 256,\n",
    "        'channels': 3,\n",
    "        'dir': 'images',\n",
    "        'headers': {\n",
    "            'cache-control': 'max-age=0',\n",
    "            'sec-ch-ua': '\" Not A;Brand\";v=\"99\", \"Chromium\";v=\"99\", \"Google Chrome\";v=\"99\"',\n",
    "            'sec-ch-ua-mobile': '?0',\n",
    "            'sec-ch-ua-platform': '\"Windows\"',\n",
    "            'sec-fetch-dest': 'document',\n",
    "            'sec-fetch-mode': 'navigate',\n",
    "            'sec-fetch-site': 'none',\n",
    "            'sec-fetch-user': '?1',\n",
    "            'upgrade-insecure-requests': '1',\n",
    "            'user-agent': 'Mozilla/5.0 (Windows NT 10.0; Win64; x64) AppleWebKit/537.36 (KHTML, like Gecko) Chrome/99.0.4844.82 Safari/537.36'\n",
    "        },\n",
    "        'tl': '',\n",
    "        'br': '',\n",
    "        'zoom': ''\n",
    "    }\n",
    "\n",
    "prefs = default_prefs\n",
    "\n",
    "# with open(prefs_path, 'w', encoding='utf-8') as f:\n",
    "#     json.dump(default_prefs, f, indent=2, ensure_ascii=False)\n",
    "# \n",
    "# with open('preferences.json', 'r', encoding='utf-8') as f:\n",
    "#     prefs = json.loads(f.read())\n",
    "\n",
    "# zoom_levels = [\n",
    "#     78271.52, 39135.76, 19567.88, 9783.94, 4891.97, 2445.98, 1222.99, 611.50, 305.75, 152.87, # 1 - 10\n",
    "#     76.44, 38.22, 19.11, 9.55, 4.78, 2.39, 1.19, 0.60, 0.30 # 11 - 19\n",
    "# ]"
   ]
  },
  {
   "cell_type": "markdown",
   "id": "4a347bcb",
   "metadata": {},
   "source": [
    "# Download Images and Generate Heatmaps"
   ]
  },
  {
   "cell_type": "code",
   "execution_count": 7,
   "id": "e492c546",
   "metadata": {
    "ExecuteTime": {
     "end_time": "2024-11-17T07:02:31.634963941Z",
     "start_time": "2024-11-17T06:32:33.138113512Z"
    }
   },
   "outputs": [
    {
     "name": "stderr",
     "output_type": "stream",
     "text": [
      "Downloading images: 100%|██████████| 10000/10000 [29:58<00:00,  5.56it/s] \n"
     ]
    }
   ],
   "source": [
    "images = []\n",
    "heatmaps = []\n",
    "for b in tqdm(range(data_count), desc=\"Downloading images\"):\n",
    "    min_lat, max_lat, min_lon, max_lon = graph_bboxes[b]\n",
    "    top, left, bottom, right = max_lat, min_lon, min_lat, max_lon\n",
    "    img = download_image(top, left, bottom, right, 17, prefs['url'], prefs['headers'], int(prefs['tile_size']), int(prefs['channels']))\n",
    "    images.append(torch.tensor(img, dtype=torch.float32).flip(0) / 255)\n",
    "\n",
    "    points = all_trajs[b].reshape(-1, 2)\n",
    "    # eliminate zero points (padding)\n",
    "    points = points[~torch.all(points == 0, dim=1)]\n",
    "\n",
    "    normalized_points = (points - torch.tensor([min_lon, min_lat])) / torch.tensor([max_lon - min_lon, max_lat - min_lat])\n",
    "    # Some points will be outside the bounding box, so we need to clamp them\n",
    "    normalized_points = torch.clamp(normalized_points, 0, 1)\n",
    "    h, w = img.shape[:2]\n",
    "    x_ids = (normalized_points[:, 0] * (w - 1)).long()\n",
    "    y_ids = (normalized_points[:, 1] * (h - 1)).long()\n",
    "    heatmap_flat = torch.zeros(h * w, dtype=torch.float32)\n",
    "    flat_indices = y_ids * w + x_ids\n",
    "    heatmap_flat.scatter_add_(0, flat_indices, torch.ones_like(flat_indices, dtype=torch.float32))\n",
    "\n",
    "    heatmaps.append(heatmap_flat.view(h, w))"
   ]
  },
  {
   "cell_type": "code",
   "execution_count": 8,
   "id": "2edb5885",
   "metadata": {
    "ExecuteTime": {
     "end_time": "2024-11-17T07:02:31.637682737Z",
     "start_time": "2024-11-17T07:02:31.636606712Z"
    }
   },
   "outputs": [],
   "source": [
    "# plot images\n",
    "if debug:\n",
    "    fig, axes = plt.subplots(3, 3, figsize=(12, 12))\n",
    "    for i in range(3):\n",
    "        for j in range(3):\n",
    "            b = i * 3 + j\n",
    "            img_with_heat = images[b].clone()\n",
    "            img_with_heat[..., 0] += heatmaps[b]\n",
    "            min_lat, max_lat, min_lon, max_lon = graph_bboxes[b]\n",
    "            axes[i, j].imshow(img_with_heat, origin=\"lower\", extent=(min_lon, max_lon, min_lat, max_lat))\n",
    "            axes[i, j].axis(\"equal\")\n",
    "            for k in range(N_trajs):\n",
    "                for route in all_routes[b, k]:\n",
    "                    if not torch.all(route == 0):\n",
    "                        axes[i, j].plot(route[:, 0], route[:, 1], color=\"red\", alpha=0.5)\n",
    "                traj = all_trajs[b, k]\n",
    "                non_zeros = torch.all(traj != 0, dim=1)\n",
    "                axes[i, j].plot(traj[non_zeros, 0], traj[non_zeros, 1], color=\"blue\", alpha=0.2)\n",
    "\n",
    "    plt.show()\n"
   ]
  },
  {
   "cell_type": "markdown",
   "id": "0a0d7192",
   "metadata": {},
   "source": [
    "# Resize and Save"
   ]
  },
  {
   "cell_type": "code",
   "execution_count": 9,
   "id": "bc4648fc",
   "metadata": {
    "ExecuteTime": {
     "end_time": "2024-11-17T07:02:31.643798318Z",
     "start_time": "2024-11-17T07:02:31.637934629Z"
    }
   },
   "outputs": [
    {
     "name": "stdout",
     "output_type": "stream",
     "text": [
      "184 150\n"
     ]
    }
   ],
   "source": [
    "max_h = 0\n",
    "max_w = 0\n",
    "for b in range(data_count):\n",
    "    h, w = images[b].shape[:2]\n",
    "    max_h = max(max_h, h)\n",
    "    max_w = max(max_w, w)\n",
    "print(max_h, max_w)"
   ]
  },
  {
   "cell_type": "code",
   "execution_count": 10,
   "id": "36492045",
   "metadata": {
    "ExecuteTime": {
     "end_time": "2024-11-17T07:02:31.685441468Z",
     "start_time": "2024-11-17T07:02:31.644327204Z"
    }
   },
   "outputs": [
    {
     "name": "stdout",
     "output_type": "stream",
     "text": [
      "184\n"
     ]
    }
   ],
   "source": [
    "resize = max(max_h, max_w)\n",
    "print(resize)\n",
    "\n",
    "target_size = 256"
   ]
  },
  {
   "cell_type": "code",
   "execution_count": 11,
   "id": "a6071432",
   "metadata": {
    "ExecuteTime": {
     "end_time": "2024-11-17T07:02:36.513315874Z",
     "start_time": "2024-11-17T07:02:31.685329930Z"
    }
   },
   "outputs": [
    {
     "name": "stderr",
     "output_type": "stream",
     "text": [
      "100%|██████████| 10000/10000 [00:01<00:00, 6298.81it/s]\n"
     ]
    }
   ],
   "source": [
    "for b in tqdm(range(data_count)):\n",
    "    h, w = images[b].shape[:2]\n",
    "    # pad_h = pad_size - h\n",
    "    # pad_w = pad_size - w\n",
    "    # images[b] = pad(images[b].permute(2, 0, 1), (0, pad_h, 0, pad_w))\n",
    "    # heatmaps[b] = pad(heatmaps[b].unsqueeze(0), (0, pad_h, 0, pad_w))\n",
    "\n",
    "    images[b] = interpolate(images[b].permute(2, 0, 1).unsqueeze(0), (resize, resize), mode=\"bilinear\", align_corners=False).squeeze(0)\n",
    "    heatmaps[b] = interpolate(heatmaps[b].unsqueeze(0).unsqueeze(0), (resize, resize), mode=\"bilinear\", align_corners=False).squeeze(0)\n",
    "    \n",
    "torch.save({\n",
    "    \"segs\": all_segs.to(torch.float32),\n",
    "    \"routes\": all_routes,\n",
    "    \"trajs\": all_trajs,\n",
    "    \"point_mean\": all_mean,\n",
    "    \"point_std\": all_std,\n",
    "    \"bboxes\": torch.tensor(graph_bboxes).to(torch.float32),\n",
    "    \"traj_lens\": traj_lens,\n",
    "    \"route_lens\": route_lens,\n",
    "    \"seg_nums\": seg_nums,\n",
    "    \"images\": torch.stack(images, dim=0),\n",
    "    \"heatmaps\": torch.stack(heatmaps, dim=0)\n",
    "}, \"dataset.pt\")"
   ]
  },
  {
   "cell_type": "code",
   "execution_count": 12,
   "id": "0f5abb89",
   "metadata": {
    "ExecuteTime": {
     "end_time": "2024-11-17T07:02:36.516127954Z",
     "start_time": "2024-11-17T07:02:36.515668978Z"
    }
   },
   "outputs": [],
   "source": [
    "# plot images\n",
    "if debug:\n",
    "    fig, axes = plt.subplots(3, 3, figsize=(12, 12))\n",
    "    for i in range(3):\n",
    "        for j in range(3):\n",
    "            b = i * 3 + j\n",
    "            img_with_heat = images[b].permute(1, 2, 0).clone()\n",
    "            img_with_heat[..., 0] += heatmaps[b][0]\n",
    "            min_lat, max_lat, min_lon, max_lon = graph_bboxes[b]\n",
    "            axes[i, j].imshow(img_with_heat, origin=\"lower\", extent=(-2, 2, -2, 2))\n",
    "            axes[i, j].axis(\"equal\")\n",
    "            for k in range(N_trajs):\n",
    "                route = all_routes[b, k]\n",
    "                for seg_i in range(len(route)):\n",
    "                    axes[i, j].plot(route[seg_i, :, 0], route[seg_i, :, 1], color=\"red\", alpha=0.5)\n",
    "                traj = all_trajs[b, k]\n",
    "                non_zeros = torch.all(traj != 0, dim=1)\n",
    "                axes[i, j].plot(traj[non_zeros, 0], traj[non_zeros, 1], color=\"blue\", alpha=0.2)\n",
    "\n",
    "    plt.show()"
   ]
  },
  {
   "cell_type": "code",
   "execution_count": null,
   "id": "f91f5de2-bcd8-48a7-b57b-ba2759771830",
   "metadata": {},
   "outputs": [],
   "source": []
  }
 ],
 "metadata": {
  "kernelspec": {
   "display_name": "Py311",
   "language": "python",
   "name": "python3"
  },
  "language_info": {
   "codemirror_mode": {
    "name": "ipython",
    "version": 3
   },
   "file_extension": ".py",
   "mimetype": "text/x-python",
   "name": "python",
   "nbconvert_exporter": "python",
   "pygments_lexer": "ipython3",
   "version": "3.11.5"
  }
 },
 "nbformat": 4,
 "nbformat_minor": 5
}
