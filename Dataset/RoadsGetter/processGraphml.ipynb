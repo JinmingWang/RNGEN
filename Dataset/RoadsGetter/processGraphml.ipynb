{
 "cells": [
  {
   "cell_type": "code",
   "execution_count": 1,
   "id": "initial_id",
   "metadata": {
    "ExecuteTime": {
     "end_time": "2024-12-20T19:34:39.529954218Z",
     "start_time": "2024-12-20T19:34:38.942302261Z"
    }
   },
   "outputs": [],
   "source": [
    "import osmnx as ox\n",
    "import networkx as nx\n",
    "from tqdm import tqdm\n",
    "import matplotlib.pyplot as plt\n",
    "import math\n",
    "from shapely import LineString, Polygon, intersection, Point, MultiLineString, GeometryCollection\n",
    "import numpy as np\n",
    "import random"
   ]
  },
  {
   "cell_type": "markdown",
   "id": "7c2e2feffe3362ba",
   "metadata": {
    "collapsed": false
   },
   "source": [
    "# Load and Clean the Data"
   ]
  },
  {
   "cell_type": "code",
   "execution_count": 2,
   "id": "b7d30509",
   "metadata": {
    "ExecuteTime": {
     "end_time": "2024-11-24T01:00:20.035222298Z",
     "start_time": "2024-11-24T01:00:06.384221168Z"
    }
   },
   "outputs": [],
   "source": [
    "G_original = ox.load_graphml('Las_Vegas_street_network.graphml')"
   ]
  },
  {
   "cell_type": "code",
   "execution_count": 3,
   "id": "24f39f19",
   "metadata": {
    "ExecuteTime": {
     "end_time": "2024-11-24T01:00:20.038268476Z",
     "start_time": "2024-11-24T01:00:20.035001623Z"
    }
   },
   "outputs": [],
   "source": [
    "debug = False\n",
    "\n",
    "# For Tokyo, debug\n",
    "# min_lat, max_lat = 35.683743, 35.700187\n",
    "# min_lon, max_lon = 139.755065, 139.777357\n",
    "\n",
    "# For No boundaries\n",
    "min_lat, max_lat = -360.0, 360.0\n",
    "min_lon, max_lon = -360.0, 360.0"
   ]
  },
  {
   "cell_type": "code",
   "execution_count": 4,
   "id": "896aae8326359643",
   "metadata": {
    "ExecuteTime": {
     "end_time": "2024-11-24T01:00:20.094139611Z",
     "start_time": "2024-11-24T01:00:20.037715554Z"
    },
    "collapsed": false
   },
   "outputs": [
    {
     "name": "stderr",
     "output_type": "stream",
     "text": [
      "Data Cleaning: 100%|██████████| 23286/23286 [00:00<00:00, 966202.33it/s]\n"
     ]
    }
   ],
   "source": [
    "nodes_of_interest = {}\n",
    "for node, data in tqdm(G_original.nodes(data=True), desc=\"Data Cleaning\"):\n",
    "    if min_lat <= data['y'] <= max_lat and min_lon <= data['x'] <= max_lon:\n",
    "        degree = G_original.degree[node]\n",
    "        if degree != 2:\n",
    "            # only keep x and y attributes for each node\n",
    "            data = {\"x\": data['x'], \"y\": data['y'], \"degree\": degree}\n",
    "            nodes_of_interest[node] = data\n",
    "\n",
    "G = G_original.subgraph(nodes_of_interest).copy()\n",
    "del G_original"
   ]
  },
  {
   "cell_type": "code",
   "execution_count": 5,
   "id": "bcd02ae3",
   "metadata": {
    "ExecuteTime": {
     "end_time": "2024-11-24T01:00:20.128650218Z",
     "start_time": "2024-11-24T01:00:20.087949075Z"
    }
   },
   "outputs": [],
   "source": [
    "if debug:\n",
    "    fig, ax = ox.plot_graph(G, node_size=3, edge_linewidth=1, figsize=(9, 9), node_color=\"red\")"
   ]
  },
  {
   "cell_type": "markdown",
   "id": "18b66d0e",
   "metadata": {},
   "source": [
    "# Detecting Degree-2 Keynodes "
   ]
  },
  {
   "cell_type": "code",
   "execution_count": 6,
   "id": "2d21c375",
   "metadata": {
    "ExecuteTime": {
     "end_time": "2024-11-24T01:00:20.130011476Z",
     "start_time": "2024-11-24T01:00:20.128615116Z"
    }
   },
   "outputs": [],
   "source": [
    "def calculate_angle(p1, p2, p3):\n",
    "    \"\"\"Calculate the angle (in degrees) between points n1, n2, and n3.\"\"\"\n",
    "    x1, y1 = p1\n",
    "    x2, y2 = p2\n",
    "    x3, y3 = p3\n",
    "    \n",
    "    # Vector from n2 to n1\n",
    "    v1 = (x1 - x2, y1 - y2)\n",
    "    # Vector from n2 to n3\n",
    "    v2 = (x3 - x2, y3 - y2)\n",
    "    \n",
    "    # Calculate the angle using the dot product formula\n",
    "    dot_product = v1[0] * v2[0] + v1[1] * v2[1]\n",
    "    mag_v1 = math.sqrt(v1[0]**2 + v1[1]**2)\n",
    "    mag_v2 = math.sqrt(v2[0]**2 + v2[1]**2)\n",
    "    cos_theta = max(-1, min(1, dot_product / (mag_v1 * mag_v2)))\n",
    "    angle_rad = math.acos(cos_theta)\n",
    "    \n",
    "    # Convert radians to degrees\n",
    "    return math.degrees(angle_rad)"
   ]
  },
  {
   "cell_type": "code",
   "execution_count": 7,
   "id": "b2ae279ae2a0d770",
   "metadata": {
    "ExecuteTime": {
     "end_time": "2024-11-24T01:00:20.130891819Z",
     "start_time": "2024-11-24T01:00:20.128750606Z"
    },
    "collapsed": false
   },
   "outputs": [
    {
     "name": "stderr",
     "output_type": "stream",
     "text": [
      "Filtering edges within bounding box: 100%|██████████| 44230/44230 [00:00<00:00, 231504.23it/s]\n"
     ]
    }
   ],
   "source": [
    "uid = 0\n",
    "G_new = G.copy()\n",
    "for u, v, data in tqdm(G.edges(data=True), desc=\"Filtering edges within bounding box\"):\n",
    "    if \"geometry\" in data:\n",
    "        points = list(data[\"geometry\"].coords)\n",
    "        last_node = u\n",
    "        next_node = v\n",
    "        for i in range(1, len(points) - 1):\n",
    "            angle = calculate_angle(points[i - 1], points[i], points[i + 1])\n",
    "            if angle < 90:\n",
    "                new_node = f\"i{uid}\"\n",
    "                uid += 1\n",
    "                G_new.add_node(new_node, x=points[i][0], y=points[i][1], degree=2)\n",
    "\n",
    "                # Add (last_node, new_node) and (new_node, next_node) edges\n",
    "                geom_u_i =  LineString(data[\"geometry\"].coords[:i+1])\n",
    "                geom_i_v = LineString(data[\"geometry\"].coords[i:])\n",
    "                G_new.add_edge(last_node, new_node, geometry=geom_u_i)\n",
    "                G_new.add_edge(new_node, next_node, geometry=geom_i_v)\n",
    "                # Remove the original edge\n",
    "                G_new.remove_edge(last_node, next_node)\n",
    "                \n",
    "                last_node = new_node\n",
    "\n",
    "G = G_new.copy()\n",
    "del G_new"
   ]
  },
  {
   "cell_type": "code",
   "execution_count": 8,
   "id": "65f47174",
   "metadata": {
    "ExecuteTime": {
     "end_time": "2024-11-24T01:00:20.131617027Z",
     "start_time": "2024-11-24T01:00:20.128856754Z"
    }
   },
   "outputs": [],
   "source": [
    "if debug:\n",
    "    fig, ax = ox.plot_graph(G, node_size=3, edge_linewidth=1, figsize=(9, 9), node_color=\"red\")"
   ]
  },
  {
   "cell_type": "markdown",
   "id": "52a2b79b",
   "metadata": {},
   "source": [
    "# Subgraph and Map Extraction"
   ]
  },
  {
   "cell_type": "code",
   "execution_count": 9,
   "id": "ce680aac",
   "metadata": {
    "ExecuteTime": {
     "end_time": "2024-11-24T01:00:22.235566724Z",
     "start_time": "2024-11-24T01:00:22.233433304Z"
    }
   },
   "outputs": [],
   "source": [
    "interp_n = 8\n",
    "base_interp_dists = np.linspace(0, 1, interp_n)\n",
    "interp_func = lambda line_string : LineString([line_string.interpolate(d) for d in base_interp_dists * line_string.length])\n",
    "\n",
    "lat_range = 0.0012\n",
    "lon_range = 0.0012\n",
    "data_count = 10000"
   ]
  },
  {
   "cell_type": "code",
   "execution_count": 10,
   "id": "fc54a4aa",
   "metadata": {
    "ExecuteTime": {
     "end_time": "2024-11-24T01:01:29.927588744Z",
     "start_time": "2024-11-24T01:00:23.643307633Z"
    }
   },
   "outputs": [
    {
     "name": "stderr",
     "output_type": "stream",
     "text": [
      "Creating subgraphs:   5%|▍         | 498/10000 [00:03<01:08, 139.02it/s]"
     ]
    },
    {
     "name": "stdout",
     "output_type": "stream",
     "text": [
      "Empty subgraph, skip\n"
     ]
    },
    {
     "name": "stderr",
     "output_type": "stream",
     "text": [
      "Creating subgraphs:  43%|████▎     | 4290/10000 [00:31<00:41, 138.78it/s]"
     ]
    },
    {
     "name": "stdout",
     "output_type": "stream",
     "text": [
      "Empty subgraph, skip\n",
      "Empty subgraph, skip\n"
     ]
    },
    {
     "name": "stderr",
     "output_type": "stream",
     "text": [
      "Creating subgraphs: 100%|██████████| 10000/10000 [01:12<00:00, 137.11it/s]\n"
     ]
    }
   ],
   "source": [
    "# randomly select data_count nodes from the graph\n",
    "src_nodes = np.random.choice(list(G.nodes()), data_count, replace=False)\n",
    "\n",
    "# Get a subgraph containing all nodes within the bounding box\n",
    "sub_graphs = []\n",
    "graph_bboxes = []\n",
    "max_n_edges = 0\n",
    "for src_node in tqdm(src_nodes, desc=\"Creating subgraphs\"):\n",
    "    if src_node[0] != 'i':\n",
    "        src_node = int(src_node)\n",
    "    # Compute the bounding box for this subgraph\n",
    "    node_lat, node_lon = G.nodes[src_node][\"y\"], G.nodes[src_node][\"x\"]\n",
    "\n",
    "    lat_bot, lat_top = node_lat - lat_range, node_lat + lat_range\n",
    "    lon_left, lon_right = node_lon - lon_range, node_lon + lon_range\n",
    "    bbox = Polygon([(lon_left, lat_top), (lon_right, lat_top), (lon_right, lat_bot), (lon_left, lat_bot)])\n",
    "\n",
    "    graph_bboxes.append((lat_bot, lat_top, lon_left, lon_right))\n",
    "\n",
    "    sub_graph = nx.MultiGraph()\n",
    "    cut_uid = 0\n",
    "    for u in G.nodes():\n",
    "\n",
    "        ux, uy = G.nodes[u][\"x\"], G.nodes[u][\"y\"]\n",
    "\n",
    "        # If the distance between u and src_node is greater than 4 * lat_range, skip\n",
    "        if (ux - node_lon)**2 + (uy - node_lat)**2 > 4 * lat_range**2:\n",
    "            continue\n",
    "\n",
    "        for v in G.neighbors(u):\n",
    "            vx, vy = G.nodes[v][\"x\"], G.nodes[v][\"y\"]\n",
    "            for data in G.get_edge_data(u, v).values():\n",
    "                \n",
    "                # intersection will return a LineString containing the segment inside the bbox\n",
    "                if \"geometry\" in data:\n",
    "                    geometry = data[\"geometry\"]\n",
    "                else:\n",
    "                    geometry = LineString([(ux, uy), (vx, vy)])\n",
    "\n",
    "                inter_segments = intersection(bbox, geometry)\n",
    "\n",
    "                if inter_segments.is_empty:\n",
    "                    inter_segments = []\n",
    "                elif isinstance(inter_segments, LineString) or isinstance(inter_segments, GeometryCollection):\n",
    "                    inter_segments = [inter_segments]\n",
    "                elif isinstance(inter_segments, MultiLineString):\n",
    "                    inter_segments = list(inter_segments.geoms)\n",
    "                elif isinstance(inter_segments, Point):\n",
    "                    inter_segments = []\n",
    "                else:\n",
    "                    raise ValueError(f\"Unexpected type {type(inter_segments)}\")\n",
    "\n",
    "                try:\n",
    "                    for intersect_segment in inter_segments:\n",
    "                        if intersect_segment.coords[0] != geometry.coords[0]:\n",
    "                            u_new = f\"cut{cut_uid}\"\n",
    "                            cut_uid += 1\n",
    "                        else:\n",
    "                            u_new = u\n",
    "    \n",
    "                        if intersect_segment.coords[-1] != geometry.coords[-1]:\n",
    "                            v_new = f\"cut{cut_uid}\"\n",
    "                            cut_uid += 1\n",
    "                        else:\n",
    "                            v_new = v\n",
    "    \n",
    "                        sub_graph.add_node(u_new, x=intersect_segment.coords[0][0], y=intersect_segment.coords[0][1])\n",
    "                        sub_graph.add_node(v_new, x=intersect_segment.coords[-1][0], y=intersect_segment.coords[-1][1])\n",
    "                        sub_graph.add_edge(u_new, v_new, geometry=interp_func(intersect_segment))\n",
    "                except:\n",
    "                    print(\"Error occured, skip node\")\n",
    "\n",
    "    sub_graph.graph[\"crs\"] = G.graph[\"crs\"]\n",
    "    if len(sub_graph.nodes()) == 0:\n",
    "        print(\"Empty subgraph, skip\")\n",
    "    else:\n",
    "        sub_graphs.append(sub_graph)\n",
    "\n",
    "    max_n_edges = max(max_n_edges, sub_graph.number_of_edges())\n",
    "\n",
    "all_segs = np.zeros((data_count, max_n_edges, interp_n, 2))\n",
    "for b, graph in enumerate(sub_graphs):\n",
    "    for i, (u, v, data) in enumerate(graph.edges(data=True)):\n",
    "        all_segs[b, i] = np.array(data[\"geometry\"].coords)\n",
    "\n",
    "np.save(\"all_segs.npy\", all_segs)\n",
    "np.save(\"graph_bboxes.npy\", graph_bboxes)"
   ]
  },
  {
   "cell_type": "code",
   "execution_count": 11,
   "id": "d3208990",
   "metadata": {
    "ExecuteTime": {
     "end_time": "2024-11-24T01:01:30.565584953Z",
     "start_time": "2024-11-24T01:01:29.928691837Z"
    }
   },
   "outputs": [
    {
     "data": {
      "image/png": "[encoded data removed]",
      "text/plain": [
       "<Figure size 900x900 with 9 Axes>"
      ]
     },
     "metadata": {},
     "output_type": "display_data"
    }
   ],
   "source": [
    "# Draw 9 subgraphs\n",
    "fig, axs = plt.subplots(3, 3, figsize=(9, 9))\n",
    "for i in range(3):\n",
    "    for j in range(3):\n",
    "        idx = i * 3 + j\n",
    "        ax = axs[i, j]\n",
    "        ax.set_title(f\"Subgraph {idx}\")\n",
    "        ox.plot_graph(sub_graphs[idx], node_size=2, edge_linewidth=1, ax=ax, show=False, node_color=\"red\")\n",
    "        ax.set_xlim((graph_bboxes[idx][2], graph_bboxes[idx][3]))\n",
    "        ax.set_ylim((graph_bboxes[idx][0], graph_bboxes[idx][1]))\n",
    "\n",
    "plt.show()"
   ]
  },
  {
   "cell_type": "markdown",
   "id": "f77ecb8a",
   "metadata": {},
   "source": [
    "# Generate Routes and Trajectories"
   ]
  },
  {
   "cell_type": "code",
   "execution_count": 12,
   "id": "38abc734",
   "metadata": {
    "ExecuteTime": {
     "end_time": "2024-11-24T01:01:38.867503661Z",
     "start_time": "2024-11-24T01:01:38.826562127Z"
    }
   },
   "outputs": [],
   "source": [
    "N_trajs = 48\n",
    "max_visited_num = 8\n",
    "min_traj_len = 8\n",
    "max_traj_len = 16\n",
    "# noise_std = 0.000025   # hard\n",
    "noise_std = 0.00002   # medium\n",
    "# noise_std = 0.000015   # easy"
   ]
  },
  {
   "cell_type": "code",
   "execution_count": 13,
   "id": "11283645",
   "metadata": {
    "ExecuteTime": {
     "end_time": "2024-11-24T01:01:44.827681131Z",
     "start_time": "2024-11-24T01:01:44.824378513Z"
    }
   },
   "outputs": [],
   "source": [
    "def myLineMerge(geom_list):\n",
    "    # Used for concatenating multiple LineString (head-tail, head-head, tail-tail or tail-head)\n",
    "    result = list(geom_list[0].coords)\n",
    "    for geom in geom_list[1:]:\n",
    "        if result[-1] == geom.coords[0]:\n",
    "            result += list(geom.coords[1:])\n",
    "        elif result[-1] == geom.coords[-1]:\n",
    "            result += list(geom.coords[::-1][1:])\n",
    "        elif result[0] == geom.coords[0]:\n",
    "            result = list(geom.coords[::-1]) + result[1:]\n",
    "        elif result[0] == geom.coords[-1]:\n",
    "            result = list(geom.coords) + result[1:]\n",
    "    return LineString(result)"
   ]
  },
  {
   "cell_type": "code",
   "execution_count": null,
   "id": "9c41a2c0",
   "metadata": {
    "ExecuteTime": {
     "end_time": "2024-11-24T01:04:02.890665994Z",
     "start_time": "2024-11-24T01:02:16.270754914Z"
    }
   },
   "outputs": [
    {
     "name": "stderr",
     "output_type": "stream",
     "text": [
      " 24%|██▎       | 2365/9997 [00:26<01:23, 91.06it/s]"
     ]
    }
   ],
   "source": [
    "all_routes = np.zeros((data_count, N_trajs, max_visited_num, interp_n, 2), np.float32)\n",
    "all_trajs = np.zeros((data_count, N_trajs, max_traj_len, 2), np.float32)\n",
    "\n",
    "all_traj_lens = np.random.randint(min_traj_len, max_traj_len, (data_count, N_trajs))\n",
    "\n",
    "if debug:\n",
    "    fig, axes = plt.subplots(3, 3, figsize=(12, 12))\n",
    "\n",
    "    for i in range(3):\n",
    "        for j in range(3):\n",
    "            idx = i * 3 + j\n",
    "            axes[i, j].set_title(f\"Subgraph {idx}\")\n",
    "            axes[i, j].set_xlim((graph_bboxes[idx][2], graph_bboxes[idx][3]))\n",
    "            axes[i, j].set_ylim((graph_bboxes[idx][0], graph_bboxes[idx][1]))\n",
    "            for seg in all_segs[idx]:\n",
    "                axes[i, j].plot(seg[:, 0], seg[:, 1], color=\"black\", linewidth=6)\n",
    "\n",
    "pbar = tqdm(sub_graphs)\n",
    "for b, graph in enumerate(pbar):\n",
    "    edges = [(u, v, data) for u, v, data in graph.edges(data=True)]\n",
    "    edges_weight = np.array([data[\"geometry\"].length for u, v, data in edges])\n",
    "    edges_weight /= edges_weight.sum()\n",
    "    unvisited_edges = [(u, v) for u, v in graph.edges()]\n",
    "    for i in range(N_trajs):\n",
    "        # first, make sure each node is chosen at least once\n",
    "        if len(unvisited_edges) != 0:\n",
    "            start_edge = unvisited_edges.pop()\n",
    "        else:\n",
    "            edge_id = int(np.random.choice(range(len(edges)), p=edges_weight))\n",
    "            start_edge = edges[edge_id]\n",
    "        \n",
    "        visit_nodes = [start_edge[0], start_edge[1]]\n",
    "\n",
    "        # random walk\n",
    "        visit_geoms = [graph.get_edge_data(visit_nodes[0], visit_nodes[1])[0][\"geometry\"]]\n",
    "        for j in range(1, max_visited_num):\n",
    "            neighbors = list(graph.neighbors(visit_nodes[-1]))\n",
    "            if len(neighbors) <= 1:\n",
    "                visit_nodes = visit_nodes[::-1]     # flip\n",
    "                visit_geoms = visit_geoms[::-1]     # flip\n",
    "                # Lets's try to explore the other direction\n",
    "                neighbors = list(graph.neighbors(visit_nodes[-1]))\n",
    "                if len(neighbors) <= 1:\n",
    "                    break\n",
    "\n",
    "            # choose unvisited edge first\n",
    "            for neighbor in neighbors:\n",
    "                if (visit_nodes[-1], neighbor) in unvisited_edges or (neighbor, visit_nodes[-1]) in unvisited_edges:\n",
    "                    next_node = neighbor\n",
    "                    break\n",
    "            else:\n",
    "                prev_node = visit_nodes[-2]\n",
    "                go_back_id = neighbors.index(prev_node)\n",
    "                # longer distance, larger weight\n",
    "                weight = np.array([graph.get_edge_data(visit_nodes[-1], v)[0][\"geometry\"].length for v in neighbors])\n",
    "                weight[go_back_id] *= 0.1\n",
    "                next_node_id = int(np.random.choice(range(len(neighbors)), p=weight / weight.sum()))\n",
    "                next_node = neighbors[next_node_id]\n",
    "\n",
    "            visit_nodes.append(next_node)\n",
    "            edge_data = list(graph.get_edge_data(visit_nodes[-2], visit_nodes[-1]).values())\n",
    "            visit_geoms.append(random.choice(edge_data)[\"geometry\"])\n",
    "\n",
    "            if len(unvisited_edges) != 0:\n",
    "                if (visit_nodes[-2], visit_nodes[-1]) in unvisited_edges:\n",
    "                    unvisited_edges.remove((visit_nodes[-2], visit_nodes[-1]))\n",
    "                elif (visit_nodes[-1], visit_nodes[-2]) in unvisited_edges:\n",
    "                    unvisited_edges.remove((visit_nodes[-1], visit_nodes[-2]))\n",
    "\n",
    "        # Merge geometries\n",
    "        # route = ops.linemerge(visit_geoms)\n",
    "        visit_points = myLineMerge(visit_geoms)\n",
    "\n",
    "        # pbar.set_postfix_str(f\"RouteLen={len(route.coords)}, VisitNum={len(visit_geoms)}\")\n",
    "\n",
    "        # interp_distances = np.linspace(0, visit_points.length, all_traj_lens[b, i])\n",
    "        interp_distances = np.sort(np.concatenate([\n",
    "            np.linspace(0, visit_points.length, 6),\n",
    "            np.random.uniform(0, visit_points.length, all_traj_lens[b, i] - 6)\n",
    "        ]))\n",
    "        interp_points = [visit_points.interpolate(d) for d in interp_distances]\n",
    "\n",
    "        traj = np.array([p.coords[0] for p in interp_points])\n",
    "        traj += np.random.normal(0, noise_std, traj.shape)\n",
    "\n",
    "        all_routes[b, i, :len(visit_geoms), :] = np.stack([np.array(geom.coords) for geom in visit_geoms], axis=0)\n",
    "        all_trajs[b, i, :all_traj_lens[b, i], :] = traj\n",
    "\n",
    "        # plot route\n",
    "        if debug:\n",
    "            row = b // 3\n",
    "            col = b % 3\n",
    "            axes[row, col].plot(*visit_points.xy, color=\"cyan\", linewidth=2, alpha=0.5)\n",
    "            # plot trajectory\n",
    "            axes[row, col].plot(all_trajs[b, i, :all_traj_lens[b, i], 0], all_trajs[b, i, :all_traj_lens[b, i], 1], \n",
    "                                color=\"red\", linewidth=1, alpha=0.5)\n",
    "\n",
    "    if len(unvisited_edges) != 0:\n",
    "        print(f\"Warning! {len(unvisited_edges)} edges are not visited!\")\n",
    "        fig, ax = ox.plot_graph(sub_graphs[b], node_size=2, edge_linewidth=1, show=False, node_color=\"red\", figsize=(4, 4))\n",
    "        ax.set_xlim((graph_bboxes[b][2], graph_bboxes[b][3]))\n",
    "        ax.set_ylim((graph_bboxes[b][0], graph_bboxes[b][1]))\n",
    "        for k in range(N_trajs):\n",
    "            plt.plot(all_trajs[b, k, :all_traj_lens[idx, k], 0], \n",
    "                     all_trajs[b, k, :all_traj_lens[idx, k], 1], alpha=0.5, marker=\".\", linewidth=1)\n",
    "        plt.show()\n",
    "\n",
    "np.save(\"all_routes.npy\", all_routes)\n",
    "np.save(\"all_trajs.npy\", all_trajs)\n",
    "\n",
    "if debug:\n",
    "    plt.show()"
   ]
  },
  {
   "cell_type": "code",
   "execution_count": null,
   "id": "11c1651b-5bb6-43e4-819a-2cdfc3ec168d",
   "metadata": {},
   "outputs": [],
   "source": [
    "# Draw 9 subgraphs\n",
    "fig, axs = plt.subplots(3, 3, figsize=(9, 9))\n",
    "for i in range(3):\n",
    "    for j in range(3):\n",
    "        idx = i * 3 + j\n",
    "        ax = axs[i, j]\n",
    "        ax.set_title(f\"Subgraph {idx}\")\n",
    "        for k in range(N_trajs):\n",
    "            ax.scatter(all_trajs[idx, k, :all_traj_lens[idx, k], 0], \n",
    "                    all_trajs[idx, k, :all_traj_lens[idx, k], 1], alpha=0.2, marker=\".\")#, linewidth=1)\n",
    "        ax.set_xlim((graph_bboxes[idx][2], graph_bboxes[idx][3]))\n",
    "        ax.set_ylim((graph_bboxes[idx][0], graph_bboxes[idx][1]))\n",
    "\n",
    "plt.show()"
   ]
  }
 ],
 "metadata": {
  "kernelspec": {
   "display_name": "Python 3 (ipykernel)",
   "language": "python",
   "name": "python3"
  },
  "language_info": {
   "codemirror_mode": {
    "name": "ipython",
    "version": 3
   },
   "file_extension": ".py",
   "mimetype": "text/x-python",
   "name": "python",
   "nbconvert_exporter": "python",
   "pygments_lexer": "ipython3",
   "version": "3.11.7"
  }
 },
 "nbformat": 4,
 "nbformat_minor": 5
}
