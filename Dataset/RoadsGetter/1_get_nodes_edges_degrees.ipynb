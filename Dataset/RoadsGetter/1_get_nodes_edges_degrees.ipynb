{
 "cells": [
  {
   "cell_type": "code",
   "execution_count": null,
   "id": "initial_id",
   "metadata": {
    "collapsed": true
   },
   "outputs": [],
   "source": [
    "import osmnx as ox\n",
    "import numpy as np\n",
    "import matplotlib.pyplot as plt\n",
    "from typing import *\n",
    "from tqdm import tqdm"
   ]
  },
  {
   "cell_type": "code",
   "execution_count": null,
   "outputs": [],
   "source": [
    "cities = [\"Jilin_City\", \"Shanghai\", \"Paris\", \"Las_Vegas\", \"Tokyo\"]\n",
    "Point = Tuple[float, float]"
   ],
   "metadata": {
    "collapsed": false
   },
   "id": "675a57dbfa7a7e51"
  },
  {
   "cell_type": "code",
   "execution_count": null,
   "outputs": [],
   "source": [
    "for city in cities:\n",
    "    print(f\"--- Processing {city} ---\")\n",
    "    graph = ox.load_graphml(f\"{city}_street_network.graphml\")\n",
    "    gdf_nodes, gdf_edges = ox.graph_to_gdfs(graph, nodes=True, edges=True)\n",
    "\n",
    "    lines = gdf_edges['geometry']\n",
    "    nodes_meta: Dict[Point, Set[int]]= dict()\n",
    "\n",
    "    uid = 0\n",
    "    for line in tqdm(lines, desc=\"Extracting nodes and edges\"):\n",
    "        # traverse all the points in the line\n",
    "        for pi, pj in zip(line.coords[:-1], line.coords[1:]):\n",
    "\n",
    "            if pi not in nodes_meta:\n",
    "                nodes_meta[pi] = [uid, set()]\n",
    "                uid += 1\n",
    "            \n",
    "            if pj not in nodes_meta:\n",
    "                nodes_meta[pj] = [uid, set()]\n",
    "                uid += 1\n",
    "\n",
    "            # add the point pj to the neighbour of pi\n",
    "            nodes_meta[pi][1].add(nodes_meta[pj][0])\n",
    "            # add the point pi to the neighbour of pj\n",
    "            nodes_meta[pj][1].add(nodes_meta[pi][0])\n",
    "\n",
    "    nodes = np.array(list(nodes_meta.keys()))\n",
    "    degrees = np.array([len(neighbours) for uid, neighbours in nodes_meta.values()])\n",
    "    max_degree = np.max(degrees)\n",
    "    edges = np.ones((len(nodes), max_degree), dtype=np.int32) - 1\n",
    "    for i, (uid, neighbours) in enumerate(tqdm(nodes_meta.values(), desc=\"Converting edges to numpy array\")):\n",
    "        edges[i, :degrees[i]] = list(neighbours)\n",
    "\n",
    "    print(\"Nodes shape:\", nodes.shape)\n",
    "    print(\"Edges shape:\", edges.shape)\n",
    "    print(\"Degrees shape:\", degrees.shape)\n",
    "\n",
    "    print(\"Saving to npz file\\n\")\n",
    "    np.savez(f\"{city}_street_network.npz\", nodes=nodes, edges=edges, degrees=degrees)"
   ],
   "metadata": {
    "collapsed": false
   },
   "id": "ee2e1c1b75732175"
  },
  {
   "cell_type": "code",
   "execution_count": null,
   "outputs": [],
   "source": [],
   "metadata": {
    "collapsed": false
   },
   "id": "327581a92c9bb2b3"
  }
 ],
 "metadata": {
  "kernelspec": {
   "display_name": "Python 3",
   "language": "python",
   "name": "python3"
  },
  "language_info": {
   "codemirror_mode": {
    "name": "ipython",
    "version": 2
   },
   "file_extension": ".py",
   "mimetype": "text/x-python",
   "name": "python",
   "nbconvert_exporter": "python",
   "pygments_lexer": "ipython2",
   "version": "2.7.6"
  }
 },
 "nbformat": 4,
 "nbformat_minor": 5
}
